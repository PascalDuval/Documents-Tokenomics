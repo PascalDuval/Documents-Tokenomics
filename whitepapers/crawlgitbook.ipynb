{
 "cells": [
  {
   "cell_type": "code",
   "execution_count": 4,
   "metadata": {},
   "outputs": [],
   "source": [
    "import requests\n",
    "from bs4 import BeautifulSoup\n",
    "import pdfkit\n",
    "from urllib.parse import urlparse, urljoin\n",
    "\n",
    "def is_valid_url(url):\n",
    "    parsed = urlparse(url)\n",
    "    return bool(parsed.netloc) and bool(parsed.scheme)\n",
    "\n",
    "def get_all_website_links(url):\n",
    "    urls = set()\n",
    "    domain_name = urlparse(url).netloc\n",
    "    response = requests.get(url)\n",
    "    soup = BeautifulSoup(response.text, \"html.parser\")\n",
    "\n",
    "    for a_tag in soup.findAll(\"a\"):\n",
    "        href = a_tag.attrs.get(\"href\")\n",
    "        if href == \"\" or href is None:\n",
    "            continue\n",
    "        href = urljoin(url, href)\n",
    "        parsed_href = urlparse(href)\n",
    "        href = parsed_href.scheme + \"://\" + parsed_href.netloc + parsed_href.path\n",
    "        if not is_valid_url(href):\n",
    "            continue\n",
    "        if domain_name not in href:\n",
    "            continue\n",
    "        urls.add(href)\n",
    "    return urls\n",
    "\n",
    "def main(url, path_wkhtmltopdf):\n",
    "    all_urls = get_all_website_links(url)\n",
    "    all_content = \"\"\n",
    "\n",
    "    for page_url in all_urls:\n",
    "        response = requests.get(page_url)\n",
    "        all_content += response.text + \"\\n\\n\"\n",
    "\n",
    "    config = pdfkit.configuration(wkhtmltopdf=path_wkhtmltopdf)\n",
    "    pdfkit.from_string(all_content, 'Illuvium.pdf', configuration=config)\n",
    "\n",
    "if __name__ == \"__main__\":\n",
    "    url_to_crawl = \"https://docs.illuvium.io/illuvium-whitepaper/\"  # Remplacez par l'URL du site à crawler\n",
    "    path_to_wkhtmltopdf = \"C:\\\\Program Files (x86)\\\\wkhtmltopdf\\\\bin\\\\wkhtmltopdf.exe\"\n",
    "    main(url_to_crawl, path_to_wkhtmltopdf)\n",
    "\n",
    "    \n",
    "\n"
   ]
  }
 ],
 "metadata": {
  "kernelspec": {
   "display_name": "datascience1",
   "language": "python",
   "name": "python3"
  },
  "language_info": {
   "codemirror_mode": {
    "name": "ipython",
    "version": 3
   },
   "file_extension": ".py",
   "mimetype": "text/x-python",
   "name": "python",
   "nbconvert_exporter": "python",
   "pygments_lexer": "ipython3",
   "version": "3.11.5"
  }
 },
 "nbformat": 4,
 "nbformat_minor": 2
}
